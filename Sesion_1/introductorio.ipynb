{
 "cells": [
  {
   "cell_type": "markdown",
   "id": "b57a4bb7",
   "metadata": {},
   "source": [
    "\n",
    "Mi primero Laboratorio"
   ]
  },
  {
   "cell_type": "code",
   "execution_count": 2,
   "id": "69ec7362",
   "metadata": {},
   "outputs": [
    {
     "name": "stdout",
     "output_type": "stream",
     "text": [
      "Hola Mundo\n"
     ]
    }
   ],
   "source": [
    "print (\"Hola Mundo\")"
   ]
  },
  {
   "cell_type": "code",
   "execution_count": 3,
   "id": "f757346a",
   "metadata": {},
   "outputs": [
    {
     "data": {
      "text/plain": [
       "'\\n    Def: Esta funcions e encarga de..\\n\\n    Arg: \\n\\n    output:\\n'"
      ]
     },
     "execution_count": 3,
     "metadata": {},
     "output_type": "execute_result"
    }
   ],
   "source": [
    "'''\n",
    "    Def: Esta funcions e encarga de..\n",
    "\n",
    "    Arg: \n",
    "\n",
    "    output:\n",
    "'''"
   ]
  },
  {
   "cell_type": "code",
   "execution_count": 4,
   "id": "081f2bc0",
   "metadata": {},
   "outputs": [
    {
     "name": "stdout",
     "output_type": "stream",
     "text": [
      "\n",
      "\n",
      "\n",
      "\n"
     ]
    }
   ],
   "source": [
    "# Etapa1: este proceso ... block\n",
    "print('') \n",
    "print('')\n",
    "print('') # Comentario inline\n",
    "print('')"
   ]
  },
  {
   "cell_type": "code",
   "execution_count": 5,
   "id": "28ccd8b6",
   "metadata": {},
   "outputs": [
    {
     "name": "stdout",
     "output_type": "stream",
     "text": [
      "3\n"
     ]
    }
   ],
   "source": [
    "if 4 < 3:\n",
    "    print('2 es menor que 3')\n",
    "    print('2')\n",
    "    print('6')\n",
    "print(3)"
   ]
  },
  {
   "cell_type": "markdown",
   "id": "1dd2161a",
   "metadata": {},
   "source": [
    "Variables Globales vs Locales"
   ]
  },
  {
   "cell_type": "code",
   "execution_count": 6,
   "id": "12afb99d",
   "metadata": {},
   "outputs": [
    {
     "name": "stdout",
     "output_type": "stream",
     "text": [
      "10\n",
      "10\n"
     ]
    }
   ],
   "source": [
    "x_global = 10\n",
    "\n",
    "def my_function():\n",
    "    print(x_global)\n",
    "\n",
    "my_function()\n",
    "print(x_global)"
   ]
  },
  {
   "cell_type": "code",
   "execution_count": 7,
   "id": "3d54bda8",
   "metadata": {},
   "outputs": [
    {
     "name": "stdout",
     "output_type": "stream",
     "text": [
      "11\n"
     ]
    }
   ],
   "source": [
    "def my_function():\n",
    "    global x_global # Declarar una variable global\n",
    "    x_global = x_global + 1\n",
    "    print(x_global) \n",
    "\n",
    "my_function()"
   ]
  },
  {
   "cell_type": "code",
   "execution_count": 8,
   "id": "2922fa34",
   "metadata": {},
   "outputs": [
    {
     "name": "stdout",
     "output_type": "stream",
     "text": [
      "5\n"
     ]
    },
    {
     "ename": "NameError",
     "evalue": "name 'y' is not defined",
     "output_type": "error",
     "traceback": [
      "\u001b[31m---------------------------------------------------------------------------\u001b[39m",
      "\u001b[31mNameError\u001b[39m                                 Traceback (most recent call last)",
      "\u001b[36mCell\u001b[39m\u001b[36m \u001b[39m\u001b[32mIn[8]\u001b[39m\u001b[32m, line 7\u001b[39m\n\u001b[32m      3\u001b[39m     \u001b[38;5;28mprint\u001b[39m(y)\n\u001b[32m      5\u001b[39m my_function2()\n\u001b[32m----> \u001b[39m\u001b[32m7\u001b[39m \u001b[38;5;28mprint\u001b[39m(\u001b[43my\u001b[49m)\n",
      "\u001b[31mNameError\u001b[39m: name 'y' is not defined"
     ]
    }
   ],
   "source": [
    "def my_function2():\n",
    "    y = 5\n",
    "    print(y)\n",
    "\n",
    "my_function2()\n",
    "\n",
    "print(y)"
   ]
  },
  {
   "cell_type": "markdown",
   "id": "92e3dd9e",
   "metadata": {},
   "source": [
    "Tipos de Datos"
   ]
  },
  {
   "cell_type": "code",
   "execution_count": 9,
   "id": "6afb7e9c",
   "metadata": {},
   "outputs": [
    {
     "name": "stdout",
     "output_type": "stream",
     "text": [
      "Bryan Vargas\n",
      "<class 'str'>\n"
     ]
    }
   ],
   "source": [
    "# String\n",
    "\n",
    "texto = \"Bryan Vargas\"\n",
    "\n",
    "print(texto)\n",
    "print(type(texto))"
   ]
  },
  {
   "cell_type": "code",
   "execution_count": 10,
   "id": "a3ae77f7",
   "metadata": {},
   "outputs": [],
   "source": [
    "# Numericos\n",
    "int_num = 10\n",
    "float_num = 10.2\n",
    "complexos_num = 3.14j"
   ]
  },
  {
   "cell_type": "code",
   "execution_count": 11,
   "id": "06926c52",
   "metadata": {},
   "outputs": [],
   "source": [
    "val = True\n",
    "val2 = False"
   ]
  },
  {
   "cell_type": "markdown",
   "id": "3c9dfd6a",
   "metadata": {},
   "source": [
    "Lista de Datos"
   ]
  },
  {
   "cell_type": "code",
   "execution_count": 12,
   "id": "6b7b3e90",
   "metadata": {},
   "outputs": [
    {
     "name": "stdout",
     "output_type": "stream",
     "text": [
      "[3, 5, 2]\n",
      "[]\n",
      "[3, 'Hello', 44.2]\n",
      "['apple', [3, ['a', 2, 3.4], 8], ['x']]\n"
     ]
    }
   ],
   "source": [
    "my_list_1 = [3, 5, 2]\n",
    "\n",
    "my_list_2 = []\n",
    "\n",
    "my_list_3 = [3, \"Hello\", 44.2]\n",
    "\n",
    "my_list = ['apple', [3, ['a', 2, 3.4], 8], ['x']]\n",
    "\n",
    "print(my_list_1)\n",
    "print(my_list_2)\n",
    "print(my_list_3)\n",
    "\n",
    "print(my_list)"
   ]
  },
  {
   "cell_type": "code",
   "execution_count": 13,
   "id": "54b4f45a",
   "metadata": {},
   "outputs": [
    {
     "data": {
      "text/plain": [
       "['apple', 3, [3, ['a', 2, 3.4], 8], ['x']]"
      ]
     },
     "execution_count": 13,
     "metadata": {},
     "output_type": "execute_result"
    }
   ],
   "source": [
    "my_list.insert(1, 3)\n",
    "my_list"
   ]
  },
  {
   "cell_type": "code",
   "execution_count": 14,
   "id": "f7d2da5a",
   "metadata": {},
   "outputs": [
    {
     "name": "stdout",
     "output_type": "stream",
     "text": [
      "x\n",
      "m\n",
      "t\n"
     ]
    }
   ],
   "source": [
    "my_list_f = ['x', 't', 'm', 'a']\n",
    "\n",
    "print(my_list_f[0])\n",
    "\n",
    "print(my_list_f[-2])\n",
    "\n",
    "print(my_list_f[-3])"
   ]
  },
  {
   "cell_type": "code",
   "execution_count": 15,
   "id": "6d2841c6",
   "metadata": {},
   "outputs": [
    {
     "data": {
      "text/plain": [
       "'a'"
      ]
     },
     "execution_count": 15,
     "metadata": {},
     "output_type": "execute_result"
    }
   ],
   "source": [
    "# Incorrect\n",
    "my_list_f[3]"
   ]
  },
  {
   "cell_type": "code",
   "execution_count": 16,
   "id": "d65724c6",
   "metadata": {},
   "outputs": [
    {
     "name": "stdout",
     "output_type": "stream",
     "text": [
      "a\n",
      "4\n"
     ]
    }
   ],
   "source": [
    "# listas Anidades\n",
    "\n",
    "n_list = ['happy', [6, 2, 3 , 4]]\n",
    "\n",
    "print(n_list[0][1])\n",
    "\n",
    "print(n_list[1][3])"
   ]
  },
  {
   "cell_type": "code",
   "execution_count": 17,
   "id": "3b67bae8",
   "metadata": {},
   "outputs": [
    {
     "name": "stdout",
     "output_type": "stream",
     "text": [
      "['a', 'b', 'c', 'd', 'e', 'f', 'g', 'h', 'i']\n",
      "['c', 'd', 'e']\n",
      "['f', 'g', 'h', 'i']\n",
      "['a', 'b', 'c', 'd', 'e', 'f', 'g', 'h', 'i']\n"
     ]
    }
   ],
   "source": [
    "my_list_range = ['a', 'b', 'c', 'd', 'e', 'f', 'g', 'h' , 'i']\n",
    "\n",
    "print(my_list_range)\n",
    "\n",
    "print(my_list_range[2:5])\n",
    "\n",
    "print(my_list_range[5:])\n",
    "\n",
    "print(my_list_range[:])"
   ]
  },
  {
   "cell_type": "code",
   "execution_count": 18,
   "id": "471ef9b4",
   "metadata": {},
   "outputs": [
    {
     "name": "stdout",
     "output_type": "stream",
     "text": [
      "Me gusta: banana\n",
      "Me gusta: apple\n",
      "Me gusta: mango\n"
     ]
    }
   ],
   "source": [
    "# Podemos Iterar la Lista\n",
    "\n",
    "frutas = ['banana', 'apple', 'mango']\n",
    "\n",
    "for fruta in frutas:\n",
    "    print('Me gusta:', fruta)"
   ]
  },
  {
   "cell_type": "code",
   "execution_count": 19,
   "id": "99fa5384",
   "metadata": {},
   "outputs": [
    {
     "data": {
      "text/plain": [
       "[0, 1, 2]"
      ]
     },
     "execution_count": 19,
     "metadata": {},
     "output_type": "execute_result"
    }
   ],
   "source": [
    "list(range(0, 3))"
   ]
  },
  {
   "cell_type": "code",
   "execution_count": 21,
   "id": "ddb508aa",
   "metadata": {},
   "outputs": [
    {
     "name": "stdout",
     "output_type": "stream",
     "text": [
      "()\n",
      "(1, 2, 5)\n",
      "(1, 'Hello', 5.5)\n",
      "('apple', [1, 3, 5], (5, 8, 9))\n"
     ]
    }
   ],
   "source": [
    "# Definir tupla ()\n",
    "my_tuple = ()\n",
    "print(my_tuple)\n",
    "\n",
    "my_tuple = (1, 2, 5)\n",
    "print(my_tuple)\n",
    "\n",
    "my_tuple = (1, 'Hello', 5.5)\n",
    "print(my_tuple)\n",
    "\n",
    "my_tuple = ('apple', [1, 3, 5], (5, 8, 9))\n",
    "print(my_tuple)"
   ]
  },
  {
   "cell_type": "code",
   "execution_count": 22,
   "id": "ebafd5d6",
   "metadata": {},
   "outputs": [
    {
     "ename": "TypeError",
     "evalue": "'tuple' object does not support item assignment",
     "output_type": "error",
     "traceback": [
      "\u001b[31m---------------------------------------------------------------------------\u001b[39m",
      "\u001b[31mTypeError\u001b[39m                                 Traceback (most recent call last)",
      "\u001b[36mCell\u001b[39m\u001b[36m \u001b[39m\u001b[32mIn[22]\u001b[39m\u001b[32m, line 1\u001b[39m\n\u001b[32m----> \u001b[39m\u001b[32m1\u001b[39m \u001b[43mmy_tuple\u001b[49m\u001b[43m[\u001b[49m\u001b[32;43m0\u001b[39;49m\u001b[43m]\u001b[49m = \u001b[33m'\u001b[39m\u001b[33mbanana\u001b[39m\u001b[33m'\u001b[39m \u001b[38;5;66;03m# Es inmutable\u001b[39;00m\n",
      "\u001b[31mTypeError\u001b[39m: 'tuple' object does not support item assignment"
     ]
    }
   ],
   "source": [
    "my_tuple[0] = 'banana' # Es inmutable"
   ]
  },
  {
   "cell_type": "code",
   "execution_count": 23,
   "id": "e299b727",
   "metadata": {},
   "outputs": [
    {
     "name": "stdout",
     "output_type": "stream",
     "text": [
      "u\n",
      "z\n"
     ]
    }
   ],
   "source": [
    "my_tuple = ('p' ,'e','r','u', 'l', 'll', 'm','z', 'z')\n",
    "\n",
    "print(my_tuple[3])\n",
    "print(my_tuple[8])"
   ]
  },
  {
   "cell_type": "code",
   "execution_count": 24,
   "id": "c8acb3d4",
   "metadata": {},
   "outputs": [
    {
     "name": "stdout",
     "output_type": "stream",
     "text": [
      "Hola:  Cesar\n",
      "Hola:  Jhon\n"
     ]
    }
   ],
   "source": [
    "# Iterrar en una tupla\n",
    "nombres = ('Cesar', 'Jhon')\n",
    "\n",
    "for nombre in nombres:\n",
    "    print('Hola: ', nombre)"
   ]
  },
  {
   "cell_type": "markdown",
   "id": "1fdc8a4c",
   "metadata": {},
   "source": [
    "Diccionario\n",
    "Conjunto de elementos, donde cada elemento tiene una clave y un valor correspondiente ('Clave': 'Valor')"
   ]
  },
  {
   "cell_type": "code",
   "execution_count": 25,
   "id": "14f312d3",
   "metadata": {},
   "outputs": [
    {
     "data": {
      "text/plain": [
       "()"
      ]
     },
     "execution_count": 25,
     "metadata": {},
     "output_type": "execute_result"
    }
   ],
   "source": [
    "list()\n",
    "\n",
    "tuple()"
   ]
  },
  {
   "cell_type": "code",
   "execution_count": 26,
   "id": "0c8e862e",
   "metadata": {},
   "outputs": [
    {
     "name": "stdout",
     "output_type": "stream",
     "text": [
      "{1: 'apple', 2: 'pera'}\n",
      "{1: 'apple', 2: 'pera'}\n"
     ]
    }
   ],
   "source": [
    "# Diccionario Vacio\n",
    "my_dict = {}\n",
    "\n",
    "#Diccionario con una clave entera\n",
    "my_dict = {\n",
    "    1: 'apple',\n",
    "    2: 'pera'\n",
    "}\n",
    "\n",
    "print(my_dict)\n",
    "\n",
    "# Consructor dicionario\n",
    "my_dicta = dict({1:'apple', 2:'pera'})\n",
    "print(my_dicta)"
   ]
  },
  {
   "cell_type": "code",
   "execution_count": 27,
   "id": "79bdafca",
   "metadata": {},
   "outputs": [
    {
     "name": "stdout",
     "output_type": "stream",
     "text": [
      "{'name': 'jhon', 1: {'edad': 12}}\n"
     ]
    }
   ],
   "source": [
    "# Crear Diccionario con diferentes tipos de llaves\n",
    "\n",
    "my_dict_2 = {\n",
    "    'name': 'jhon',\n",
    "    1: {'edad': 12}\n",
    "}\n",
    "print(my_dict_2)"
   ]
  },
  {
   "cell_type": "code",
   "execution_count": 28,
   "id": "6f423ce1",
   "metadata": {},
   "outputs": [
    {
     "name": "stdout",
     "output_type": "stream",
     "text": [
      "{'estudiante_01': {'nombre': 'Luis', 'apellido': 'Solis', 'Edad': 25}, 'estudiante_02': {'nombre': 'Gianina', 'apellido': 'Miranda', 'Edad': 22}}\n"
     ]
    }
   ],
   "source": [
    "estudiante = {\n",
    "    'estudiante_01': {\n",
    "        'nombre': 'Luis',\n",
    "        'apellido': 'Solis',\n",
    "        'Edad': 25\n",
    "    },\n",
    "    'estudiante_02': {\n",
    "        'nombre': 'Gianina',\n",
    "        'apellido': 'Miranda',\n",
    "        'Edad': 22\n",
    "    }\n",
    "}\n",
    "\n",
    "print(estudiante)"
   ]
  },
  {
   "cell_type": "code",
   "execution_count": 29,
   "id": "e40202db",
   "metadata": {},
   "outputs": [
    {
     "name": "stdout",
     "output_type": "stream",
     "text": [
      "Gianina\n"
     ]
    }
   ],
   "source": [
    "print(estudiante.get('estudiante_02').get('nombre','-'))"
   ]
  },
  {
   "cell_type": "code",
   "execution_count": 30,
   "id": "bbd3ea99",
   "metadata": {},
   "outputs": [
    {
     "name": "stdout",
     "output_type": "stream",
     "text": [
      "jack\n",
      "0\n"
     ]
    }
   ],
   "source": [
    "# Como acceder a los diccionarios\n",
    "my_dict = {\n",
    "    'name': 'jack',\n",
    "    'age': 26\n",
    "}\n",
    "\n",
    "# acceder directamente a un elemento\n",
    "print(my_dict['name'])\n",
    "\n",
    "# Usando get, para tratar errores\n",
    "print(my_dict.get('talla', '0'))"
   ]
  },
  {
   "cell_type": "code",
   "execution_count": 31,
   "id": "daa15658",
   "metadata": {},
   "outputs": [
    {
     "data": {
      "text/plain": [
       "{'name': 'jack', 'age': 26, 'apellido': 'Fernando'}"
      ]
     },
     "execution_count": 31,
     "metadata": {},
     "output_type": "execute_result"
    }
   ],
   "source": [
    "my_dict['apellido'] = 'Fernando'\n",
    "my_dict"
   ]
  },
  {
   "cell_type": "code",
   "execution_count": 32,
   "id": "c4fdec6b",
   "metadata": {},
   "outputs": [
    {
     "data": {
      "text/plain": [
       "{'name': 'jack', 'age': 26, 'apellido': 'Fernando'}"
      ]
     },
     "execution_count": 32,
     "metadata": {},
     "output_type": "execute_result"
    }
   ],
   "source": [
    "# Iterar un diccionar\n",
    "my_dict"
   ]
  },
  {
   "cell_type": "code",
   "execution_count": 33,
   "id": "8a9af585",
   "metadata": {},
   "outputs": [
    {
     "name": "stdout",
     "output_type": "stream",
     "text": [
      "El valor de la llave name es jack\n",
      "El valor de la llave age es 26\n",
      "El valor de la llave apellido es Fernando\n"
     ]
    }
   ],
   "source": [
    "for key, value in my_dict.items():\n",
    "    print(f'El valor de la llave {key} es {value}')"
   ]
  },
  {
   "cell_type": "code",
   "execution_count": 34,
   "id": "33cf3659",
   "metadata": {},
   "outputs": [
    {
     "data": {
      "text/plain": [
       "dict_values(['jack', 26, 'Fernando'])"
      ]
     },
     "execution_count": 34,
     "metadata": {},
     "output_type": "execute_result"
    }
   ],
   "source": [
    "my_dict.values()"
   ]
  },
  {
   "cell_type": "code",
   "execution_count": 35,
   "id": "0e440103",
   "metadata": {},
   "outputs": [
    {
     "data": {
      "text/plain": [
       "dict_keys(['name', 'age', 'apellido'])"
      ]
     },
     "execution_count": 35,
     "metadata": {},
     "output_type": "execute_result"
    }
   ],
   "source": [
    "my_dict.keys()"
   ]
  },
  {
   "cell_type": "markdown",
   "id": "4ad31d31",
   "metadata": {},
   "source": [
    "Flujos de Control"
   ]
  },
  {
   "cell_type": "code",
   "execution_count": 36,
   "id": "0b0b6660",
   "metadata": {},
   "outputs": [
    {
     "data": {
      "text/plain": [
       "(True, False)"
      ]
     },
     "execution_count": 36,
     "metadata": {},
     "output_type": "execute_result"
    }
   ],
   "source": [
    "True, False"
   ]
  },
  {
   "cell_type": "code",
   "execution_count": 37,
   "id": "efe9a7d1",
   "metadata": {},
   "outputs": [],
   "source": [
    "# Flujo de control, if, else, elif\n",
    "\n",
    "x = -5\n",
    "\n",
    "if x > 0:\n",
    "    print('positivo')\n",
    "elif x == 0:\n",
    "    print('Cero')\n",
    "else:\n",
    "    pass\n",
    "    # print('Negativo')"
   ]
  },
  {
   "cell_type": "code",
   "execution_count": 38,
   "id": "249ade4d",
   "metadata": {},
   "outputs": [
    {
     "name": "stdout",
     "output_type": "stream",
     "text": [
      "la suma es: 48\n"
     ]
    }
   ],
   "source": [
    "# for\n",
    "numbers = [6, 5, 3, 8, 4, 2, 5, 4, 11]\n",
    "\n",
    "sum = 0\n",
    "\n",
    "for val in numbers:\n",
    "    sum = sum + val\n",
    "\n",
    "print(f'la suma es: {sum}')"
   ]
  },
  {
   "cell_type": "code",
   "execution_count": 39,
   "id": "78de33c7",
   "metadata": {},
   "outputs": [
    {
     "name": "stdout",
     "output_type": "stream",
     "text": [
      "La suma es: 55.0\n"
     ]
    }
   ],
   "source": [
    "# while\n",
    "\n",
    "i = 0\n",
    "suma = 0\n",
    "\n",
    "while i <= 10:\n",
    "    suma = suma + i\n",
    "    i+=1. # Actualizar el contador\n",
    "\n",
    "print(f'La suma es: {suma}')"
   ]
  },
  {
   "cell_type": "code",
   "execution_count": 40,
   "id": "f4d6a1e5",
   "metadata": {},
   "outputs": [
    {
     "name": "stdout",
     "output_type": "stream",
     "text": [
      "apple\n",
      "banana\n"
     ]
    }
   ],
   "source": [
    "# Break, Continue, pass\n",
    "\n",
    "fruits = ['apple', 'banana', 'cherry']\n",
    "\n",
    "for i in fruits:\n",
    "    print(i)\n",
    "    if i == 'banana':\n",
    "        break"
   ]
  },
  {
   "cell_type": "code",
   "execution_count": 41,
   "id": "69075bda",
   "metadata": {},
   "outputs": [
    {
     "name": "stdout",
     "output_type": "stream",
     "text": [
      "apple\n",
      "cherry\n"
     ]
    }
   ],
   "source": [
    "fruits = ['apple', 'banana', 'cherry']\n",
    "\n",
    "for i in fruits:\n",
    "    if i == 'banana':\n",
    "        continue\n",
    "    print(i)"
   ]
  },
  {
   "cell_type": "code",
   "execution_count": 42,
   "id": "2525ed28",
   "metadata": {},
   "outputs": [
    {
     "name": "stdout",
     "output_type": "stream",
     "text": [
      "apple\n",
      "banana\n",
      "cherry\n"
     ]
    }
   ],
   "source": [
    "fruits = ['apple', 'banana', 'cherry']\n",
    "\n",
    "for i in fruits:\n",
    "    if i == 'banana':\n",
    "        pass # Util para definir una estructura, no hay logica interna\n",
    "    print(i)"
   ]
  },
  {
   "cell_type": "code",
   "execution_count": 43,
   "id": "18a49cfa",
   "metadata": {},
   "outputs": [
    {
     "name": "stdout",
     "output_type": "stream",
     "text": [
      "success\n"
     ]
    }
   ],
   "source": [
    "# Tratamiento de errores ( try / exception)\n",
    "\n",
    "try:\n",
    "    print('success')\n",
    "except:\n",
    "    print('- Error')"
   ]
  },
  {
   "cell_type": "code",
   "execution_count": 44,
   "id": "5db71e73",
   "metadata": {},
   "outputs": [
    {
     "name": "stdout",
     "output_type": "stream",
     "text": [
      "-- No se puede dividr entre zero\n"
     ]
    }
   ],
   "source": [
    "try:\n",
    "    print(10/0)\n",
    "except ZeroDivisionError:\n",
    "    print('-- No se puede dividr entre zero')\n",
    "\n",
    "    "
   ]
  },
  {
   "cell_type": "code",
   "execution_count": 45,
   "id": "d5f44629",
   "metadata": {},
   "outputs": [
    {
     "name": "stdout",
     "output_type": "stream",
     "text": [
      "Error en etapa de homologacion de productos!!!: division by zero\n"
     ]
    }
   ],
   "source": [
    "try:\n",
    "    print(10/0)\n",
    "except Exception as e:\n",
    "    print('Error en etapa de homologacion de productos!!!:', e)\n"
   ]
  },
  {
   "cell_type": "markdown",
   "id": "e96ebaa7",
   "metadata": {},
   "source": [
    "\n",
    "Funciones"
   ]
  },
  {
   "cell_type": "code",
   "execution_count": 46,
   "id": "ad25980c",
   "metadata": {},
   "outputs": [
    {
     "name": "stdout",
     "output_type": "stream",
     "text": [
      "I am from  Brasil\n",
      "I am from  Peru\n"
     ]
    }
   ],
   "source": [
    "def my_function(country: str = 'Peru'):\n",
    "    print('I am from ', country)\n",
    "\n",
    "my_function('Brasil') \n",
    "my_function()"
   ]
  },
  {
   "cell_type": "code",
   "execution_count": 47,
   "id": "429086d5",
   "metadata": {},
   "outputs": [
    {
     "name": "stdout",
     "output_type": "stream",
     "text": [
      "19\n"
     ]
    }
   ],
   "source": [
    "def sum(num_1, num_2):\n",
    "    resultado = num_1 + num_2\n",
    "    return resultado\n",
    "\n",
    "resultado = sum(10, 9)\n",
    "resultado2 = sum(3, 4)\n",
    "\n",
    "print(resultado)"
   ]
  },
  {
   "cell_type": "code",
   "execution_count": 48,
   "id": "4fc176d3",
   "metadata": {},
   "outputs": [
    {
     "name": "stdout",
     "output_type": "stream",
     "text": [
      "7\n",
      "-1\n",
      "12\n"
     ]
    }
   ],
   "source": [
    "# funcion con mas de 1 elemento de retorno\n",
    "def sumar(a: int, b: int)-> int:\n",
    "    resultado1 = a + b\n",
    "    resultado2 = a - b\n",
    "    resultado3 = a * b\n",
    "    return resultado1, resultado2, resultado3 # retorna una tupla\n",
    "\n",
    "x, y, z = sumar(a=3, b=4)\n",
    "\n",
    "print(x)\n",
    "print(y)\n",
    "print(z)"
   ]
  },
  {
   "cell_type": "code",
   "execution_count": 49,
   "id": "e49a702a",
   "metadata": {},
   "outputs": [
    {
     "data": {
      "text/plain": [
       "'Hola'"
      ]
     },
     "execution_count": 49,
     "metadata": {},
     "output_type": "execute_result"
    }
   ],
   "source": [
    "# Funciones anonimas , \n",
    "saludo = lambda: 'Hola'\n",
    "saludo()"
   ]
  },
  {
   "cell_type": "markdown",
   "id": "b68f5971",
   "metadata": {},
   "source": [
    "\n",
    "Tarea 1: Creamos una funcion para buscar un elemento de una lista"
   ]
  },
  {
   "cell_type": "code",
   "execution_count": 50,
   "id": "6dd197ad",
   "metadata": {},
   "outputs": [
    {
     "name": "stdout",
     "output_type": "stream",
     "text": [
      "No esta en la lista\n",
      "No esta en la lista\n"
     ]
    }
   ],
   "source": [
    "lista_ejemplo = range(1, 100)\n",
    "\n",
    "def buscar_elemento(lista, elemento):\n",
    "    for item in enumerate(lista):\n",
    "        if item == elemento:\n",
    "            return 'Si esta en la lista'\n",
    "    return 'No esta en la lista'\n",
    " \n",
    "print(buscar_elemento(lista_ejemplo, 25))  \n",
    "print(buscar_elemento(lista_ejemplo, -2))  "
   ]
  },
  {
   "cell_type": "code",
   "execution_count": 51,
   "id": "8c04951e",
   "metadata": {},
   "outputs": [
    {
     "name": "stdout",
     "output_type": "stream",
     "text": [
      "10\n"
     ]
    }
   ],
   "source": [
    "lista_ejemplo = range(1, 100)\n",
    "\n",
    "def buscar_elemento(lista, elemento):\n",
    "    for pos, val in enumerate(lista):\n",
    "        if val == elemento:\n",
    "            return pos\n",
    "\n",
    "posicion_buscada = buscar_elemento(lista_ejemplo, 10)\n",
    "print(lista_ejemplo[posicion_buscada])"
   ]
  }
 ],
 "metadata": {
  "kernelspec": {
   "display_name": "Python 3",
   "language": "python",
   "name": "python3"
  },
  "language_info": {
   "codemirror_mode": {
    "name": "ipython",
    "version": 3
   },
   "file_extension": ".py",
   "mimetype": "text/x-python",
   "name": "python",
   "nbconvert_exporter": "python",
   "pygments_lexer": "ipython3",
   "version": "3.12.1"
  }
 },
 "nbformat": 4,
 "nbformat_minor": 5
}
